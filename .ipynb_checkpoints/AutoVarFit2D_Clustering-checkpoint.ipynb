{
 "cells": [
  {
   "cell_type": "code",
   "execution_count": 2,
   "metadata": {},
   "outputs": [],
   "source": [
    "#The imports\n",
    "from sklearn.cluster import SpectralClustering\n",
    "import numpy as np\n",
    "import pandas as pd"
   ]
  },
  {
   "cell_type": "code",
   "execution_count": 100,
   "metadata": {},
   "outputs": [
    {
     "name": "stdout",
     "output_type": "stream",
     "text": [
      "(816, 4)\n"
     ]
    }
   ],
   "source": [
    "#Read the parameters of the fitted nested variogram structures, wich were saved as a GEO-EAS point set.\n",
    "# 1st column: parameter a (main range)\n",
    "# 2nd column: parameter b/a (minor/main ranges ratio)\n",
    "# 3rd column: parameter theta (azimuth)\n",
    "# 4th column: parameter cc (contribution)\n",
    "\n",
    "varParameters = pd.read_csv(\"Scat_V4_GA_FIM_816.xyz\", sep='\\t', skiprows=0)\n",
    "print(varParameters.values.shape)\n",
    "\n",
    "numberOfClusters = 4\n"
   ]
  },
  {
   "cell_type": "code",
   "execution_count": 101,
   "metadata": {},
   "outputs": [
    {
     "ename": "AssertionError",
     "evalue": "\nNot equal to tolerance rtol=1e-05, atol=1e-08\n\n(mismatch 100.0%)\n x: matrix([[-1.725655e-12,  0.000000e+00,  0.000000e+00,  0.000000e+00,\n          1.731813e-07,  2.844235e-13, -3.002727e-12, -5.567605e-12,\n         -1.998971e-15, -4.589406e-14,  4.671957e-14, -1.339423e-13],...\n y: matrix([[-1.725655e-12,  0.000000e+00,  0.000000e+00,  0.000000e+00,\n          1.731813e-07,  2.844235e-13, -3.002727e-12, -5.567605e-12,\n         -1.998971e-15, -4.589406e-14,  4.671957e-14, -1.339423e-13],...",
     "output_type": "error",
     "traceback": [
      "\u001b[1;31m---------------------------------------------------------------------------\u001b[0m",
      "\u001b[1;31mAssertionError\u001b[0m                            Traceback (most recent call last)",
      "\u001b[1;32m<ipython-input-101-826a45d6c3ad>\u001b[0m in \u001b[0;36m<module>\u001b[1;34m()\u001b[0m\n\u001b[0;32m      2\u001b[0m clusteringData = SpectralClustering(n_clusters=numberOfClusters, \n\u001b[0;32m      3\u001b[0m                                     \u001b[0massign_labels\u001b[0m\u001b[1;33m=\u001b[0m\u001b[1;34m\"discretize\"\u001b[0m\u001b[1;33m,\u001b[0m\u001b[1;33m\u001b[0m\u001b[0m\n\u001b[1;32m----> 4\u001b[1;33m                                     random_state=0).fit( varParameters.values[:,:3] )\n\u001b[0m",
      "\u001b[1;32mC:\\ProgramData\\Anaconda3\\lib\\site-packages\\sklearn\\cluster\\spectral.py\u001b[0m in \u001b[0;36mfit\u001b[1;34m(self, X, y)\u001b[0m\n\u001b[0;32m    470\u001b[0m                                            \u001b[0mn_init\u001b[0m\u001b[1;33m=\u001b[0m\u001b[0mself\u001b[0m\u001b[1;33m.\u001b[0m\u001b[0mn_init\u001b[0m\u001b[1;33m,\u001b[0m\u001b[1;33m\u001b[0m\u001b[0m\n\u001b[0;32m    471\u001b[0m                                            \u001b[0meigen_tol\u001b[0m\u001b[1;33m=\u001b[0m\u001b[0mself\u001b[0m\u001b[1;33m.\u001b[0m\u001b[0meigen_tol\u001b[0m\u001b[1;33m,\u001b[0m\u001b[1;33m\u001b[0m\u001b[0m\n\u001b[1;32m--> 472\u001b[1;33m                                            assign_labels=self.assign_labels)\n\u001b[0m\u001b[0;32m    473\u001b[0m         \u001b[1;32mreturn\u001b[0m \u001b[0mself\u001b[0m\u001b[1;33m\u001b[0m\u001b[0m\n\u001b[0;32m    474\u001b[0m \u001b[1;33m\u001b[0m\u001b[0m\n",
      "\u001b[1;32mC:\\ProgramData\\Anaconda3\\lib\\site-packages\\sklearn\\cluster\\spectral.py\u001b[0m in \u001b[0;36mspectral_clustering\u001b[1;34m(affinity, n_clusters, n_components, eigen_solver, random_state, n_init, eigen_tol, assign_labels)\u001b[0m\n\u001b[0;32m    260\u001b[0m                               \u001b[0meigen_solver\u001b[0m\u001b[1;33m=\u001b[0m\u001b[0meigen_solver\u001b[0m\u001b[1;33m,\u001b[0m\u001b[1;33m\u001b[0m\u001b[0m\n\u001b[0;32m    261\u001b[0m                               \u001b[0mrandom_state\u001b[0m\u001b[1;33m=\u001b[0m\u001b[0mrandom_state\u001b[0m\u001b[1;33m,\u001b[0m\u001b[1;33m\u001b[0m\u001b[0m\n\u001b[1;32m--> 262\u001b[1;33m                               eigen_tol=eigen_tol, drop_first=False)\n\u001b[0m\u001b[0;32m    263\u001b[0m \u001b[1;33m\u001b[0m\u001b[0m\n\u001b[0;32m    264\u001b[0m     \u001b[1;32mif\u001b[0m \u001b[0massign_labels\u001b[0m \u001b[1;33m==\u001b[0m \u001b[1;34m'kmeans'\u001b[0m\u001b[1;33m:\u001b[0m\u001b[1;33m\u001b[0m\u001b[0m\n",
      "\u001b[1;32mC:\\ProgramData\\Anaconda3\\lib\\site-packages\\sklearn\\manifold\\spectral_embedding_.py\u001b[0m in \u001b[0;36mspectral_embedding\u001b[1;34m(adjacency, n_components, eigen_solver, random_state, eigen_tol, norm_laplacian, drop_first)\u001b[0m\n\u001b[0;32m    315\u001b[0m             \u001b[0mX\u001b[0m\u001b[1;33m[\u001b[0m\u001b[1;33m:\u001b[0m\u001b[1;33m,\u001b[0m \u001b[1;36m0\u001b[0m\u001b[1;33m]\u001b[0m \u001b[1;33m=\u001b[0m \u001b[0mdd\u001b[0m\u001b[1;33m.\u001b[0m\u001b[0mravel\u001b[0m\u001b[1;33m(\u001b[0m\u001b[1;33m)\u001b[0m\u001b[1;33m\u001b[0m\u001b[0m\n\u001b[0;32m    316\u001b[0m             lambdas, diffusion_map = lobpcg(laplacian, X, tol=1e-15,\n\u001b[1;32m--> 317\u001b[1;33m                                             largest=False, maxiter=2000)\n\u001b[0m\u001b[0;32m    318\u001b[0m             \u001b[0membedding\u001b[0m \u001b[1;33m=\u001b[0m \u001b[0mdiffusion_map\u001b[0m\u001b[1;33m.\u001b[0m\u001b[0mT\u001b[0m\u001b[1;33m[\u001b[0m\u001b[1;33m:\u001b[0m\u001b[0mn_components\u001b[0m\u001b[1;33m]\u001b[0m \u001b[1;33m*\u001b[0m \u001b[0mdd\u001b[0m\u001b[1;33m\u001b[0m\u001b[0m\n\u001b[0;32m    319\u001b[0m             \u001b[1;32mif\u001b[0m \u001b[0membedding\u001b[0m\u001b[1;33m.\u001b[0m\u001b[0mshape\u001b[0m\u001b[1;33m[\u001b[0m\u001b[1;36m0\u001b[0m\u001b[1;33m]\u001b[0m \u001b[1;33m==\u001b[0m \u001b[1;36m1\u001b[0m\u001b[1;33m:\u001b[0m\u001b[1;33m\u001b[0m\u001b[0m\n",
      "\u001b[1;32mC:\\ProgramData\\Anaconda3\\lib\\site-packages\\scipy\\sparse\\linalg\\eigen\\lobpcg\\lobpcg.py\u001b[0m in \u001b[0;36mlobpcg\u001b[1;34m(A, X, B, M, Y, tol, maxiter, largest, verbosityLevel, retLambdaHistory, retResidualNormsHistory)\u001b[0m\n\u001b[0;32m    480\u001b[0m                               [xbw.T, ident]])\n\u001b[0;32m    481\u001b[0m \u001b[1;33m\u001b[0m\u001b[0m\n\u001b[1;32m--> 482\u001b[1;33m         \u001b[0m_assert_symmetric\u001b[0m\u001b[1;33m(\u001b[0m\u001b[0mgramA\u001b[0m\u001b[1;33m)\u001b[0m\u001b[1;33m\u001b[0m\u001b[0m\n\u001b[0m\u001b[0;32m    483\u001b[0m         \u001b[0m_assert_symmetric\u001b[0m\u001b[1;33m(\u001b[0m\u001b[0mgramB\u001b[0m\u001b[1;33m)\u001b[0m\u001b[1;33m\u001b[0m\u001b[0m\n\u001b[0;32m    484\u001b[0m \u001b[1;33m\u001b[0m\u001b[0m\n",
      "\u001b[1;32mC:\\ProgramData\\Anaconda3\\lib\\site-packages\\scipy\\sparse\\linalg\\eigen\\lobpcg\\lobpcg.py\u001b[0m in \u001b[0;36m_assert_symmetric\u001b[1;34m(M, rtol, atol)\u001b[0m\n\u001b[0;32m     36\u001b[0m \u001b[1;33m\u001b[0m\u001b[0m\n\u001b[0;32m     37\u001b[0m \u001b[1;32mdef\u001b[0m \u001b[0m_assert_symmetric\u001b[0m\u001b[1;33m(\u001b[0m\u001b[0mM\u001b[0m\u001b[1;33m,\u001b[0m \u001b[0mrtol\u001b[0m\u001b[1;33m=\u001b[0m\u001b[1;36m1e-5\u001b[0m\u001b[1;33m,\u001b[0m \u001b[0matol\u001b[0m\u001b[1;33m=\u001b[0m\u001b[1;36m1e-8\u001b[0m\u001b[1;33m)\u001b[0m\u001b[1;33m:\u001b[0m\u001b[1;33m\u001b[0m\u001b[0m\n\u001b[1;32m---> 38\u001b[1;33m     \u001b[0massert_allclose\u001b[0m\u001b[1;33m(\u001b[0m\u001b[0mM\u001b[0m\u001b[1;33m.\u001b[0m\u001b[0mT\u001b[0m\u001b[1;33m,\u001b[0m \u001b[0mM\u001b[0m\u001b[1;33m,\u001b[0m \u001b[0mrtol\u001b[0m\u001b[1;33m=\u001b[0m\u001b[0mrtol\u001b[0m\u001b[1;33m,\u001b[0m \u001b[0matol\u001b[0m\u001b[1;33m=\u001b[0m\u001b[0matol\u001b[0m\u001b[1;33m)\u001b[0m\u001b[1;33m\u001b[0m\u001b[0m\n\u001b[0m\u001b[0;32m     39\u001b[0m \u001b[1;33m\u001b[0m\u001b[0m\n\u001b[0;32m     40\u001b[0m \u001b[1;33m\u001b[0m\u001b[0m\n",
      "\u001b[1;32mC:\\ProgramData\\Anaconda3\\lib\\site-packages\\numpy\\testing\\nose_tools\\utils.py\u001b[0m in \u001b[0;36massert_allclose\u001b[1;34m(actual, desired, rtol, atol, equal_nan, err_msg, verbose)\u001b[0m\n\u001b[0;32m   1394\u001b[0m     \u001b[0mheader\u001b[0m \u001b[1;33m=\u001b[0m \u001b[1;34m'Not equal to tolerance rtol=%g, atol=%g'\u001b[0m \u001b[1;33m%\u001b[0m \u001b[1;33m(\u001b[0m\u001b[0mrtol\u001b[0m\u001b[1;33m,\u001b[0m \u001b[0matol\u001b[0m\u001b[1;33m)\u001b[0m\u001b[1;33m\u001b[0m\u001b[0m\n\u001b[0;32m   1395\u001b[0m     assert_array_compare(compare, actual, desired, err_msg=str(err_msg),\n\u001b[1;32m-> 1396\u001b[1;33m                          verbose=verbose, header=header, equal_nan=equal_nan)\n\u001b[0m\u001b[0;32m   1397\u001b[0m \u001b[1;33m\u001b[0m\u001b[0m\n\u001b[0;32m   1398\u001b[0m \u001b[1;33m\u001b[0m\u001b[0m\n",
      "\u001b[1;32mC:\\ProgramData\\Anaconda3\\lib\\site-packages\\numpy\\testing\\nose_tools\\utils.py\u001b[0m in \u001b[0;36massert_array_compare\u001b[1;34m(comparison, x, y, err_msg, verbose, header, precision, equal_nan, equal_inf)\u001b[0m\n\u001b[0;32m    777\u001b[0m                                 \u001b[0mverbose\u001b[0m\u001b[1;33m=\u001b[0m\u001b[0mverbose\u001b[0m\u001b[1;33m,\u001b[0m \u001b[0mheader\u001b[0m\u001b[1;33m=\u001b[0m\u001b[0mheader\u001b[0m\u001b[1;33m,\u001b[0m\u001b[1;33m\u001b[0m\u001b[0m\n\u001b[0;32m    778\u001b[0m                                 names=('x', 'y'), precision=precision)\n\u001b[1;32m--> 779\u001b[1;33m             \u001b[1;32mraise\u001b[0m \u001b[0mAssertionError\u001b[0m\u001b[1;33m(\u001b[0m\u001b[0mmsg\u001b[0m\u001b[1;33m)\u001b[0m\u001b[1;33m\u001b[0m\u001b[0m\n\u001b[0m\u001b[0;32m    780\u001b[0m     \u001b[1;32mexcept\u001b[0m \u001b[0mValueError\u001b[0m\u001b[1;33m:\u001b[0m\u001b[1;33m\u001b[0m\u001b[0m\n\u001b[0;32m    781\u001b[0m         \u001b[1;32mimport\u001b[0m \u001b[0mtraceback\u001b[0m\u001b[1;33m\u001b[0m\u001b[0m\n",
      "\u001b[1;31mAssertionError\u001b[0m: \nNot equal to tolerance rtol=1e-05, atol=1e-08\n\n(mismatch 100.0%)\n x: matrix([[-1.725655e-12,  0.000000e+00,  0.000000e+00,  0.000000e+00,\n          1.731813e-07,  2.844235e-13, -3.002727e-12, -5.567605e-12,\n         -1.998971e-15, -4.589406e-14,  4.671957e-14, -1.339423e-13],...\n y: matrix([[-1.725655e-12,  0.000000e+00,  0.000000e+00,  0.000000e+00,\n          1.731813e-07,  2.844235e-13, -3.002727e-12, -5.567605e-12,\n         -1.998971e-15, -4.589406e-14,  4.671957e-14, -1.339423e-13],..."
     ]
    }
   ],
   "source": [
    "#Perform the clustering using only range, ranges ratio and azimuth (does not use contribution)\n",
    "#clusteringData = SpectralClustering(n_clusters=numberOfClusters, \n",
    "#                                    assign_labels=\"discretize\", \n",
    "#                                    random_state=0).fit( varParameters.values[:,:3] )\n",
    "\n",
    "#Perform the clustering using all variables\n",
    "clusteringData = SpectralClustering(n_clusters=numberOfClusters, \n",
    "                                    assign_labels=\"discretize\", \n",
    "                                    random_state=0).fit( varParameters )"
   ]
  },
  {
   "cell_type": "code",
   "execution_count": 99,
   "metadata": {},
   "outputs": [
    {
     "name": "stdout",
     "output_type": "stream",
     "text": [
      "Cluster 1 :\n",
      "  a= 9.439271530985645 b/a= 0.2264558268051254 az= 134.86016653718366 cc= 0.15991862869493123\n",
      "Cluster 2 :\n",
      "  a= 30.561944415045154 b/a= 0.4792496737807242 az= 59.94955340966979 cc= 0.15495116943520887\n",
      "Cluster 3 :\n",
      "  a= 22.35163252057 b/a= 0.4073315225685067 az= 101.63060396131002 cc= 0.10505825195518888\n",
      "Cluster 4 :\n",
      "  a= 48.59226646398499 b/a= 0.4962418439283833 az= 125.06118961166668 cc= 0.08995422801904167\n"
     ]
    }
   ],
   "source": [
    "#Stores the mean parameters for each cluster\n",
    "rangeMeans       = np.zeros( numberOfClusters )\n",
    "rangeRatioMeans  = np.zeros( numberOfClusters )\n",
    "azimuthMeans     = np.zeros( numberOfClusters )\n",
    "ccMeans          = np.zeros( numberOfClusters )\n",
    "\n",
    "#The counts of samples for each cluster \n",
    "sampleCounts     = np.zeros( numberOfClusters )\n",
    "\n",
    "#Accumulate the sums of parameters per cluster for the computation of the means (cluster centers)\n",
    "for iRow in range(0, clusteringData.labels_.shape[0] ) :\n",
    "    rangeV                 = varParameters.values[ iRow, 0 ]\n",
    "    rangeRatio             = varParameters.values[ iRow, 1 ]\n",
    "    azimuth                = varParameters.values[ iRow, 2 ]\n",
    "    covarianceContribution = varParameters.values[ iRow, 3 ]\n",
    "    \n",
    "    clusterId = clusteringData.labels_[ iRow ]\n",
    "    \n",
    "    rangeMeans     [ clusterId ] += rangeV \n",
    "    rangeRatioMeans[ clusterId ] += rangeRatio \n",
    "    azimuthMeans   [ clusterId ] += azimuth \n",
    "    ccMeans        [ clusterId ] += covarianceContribution \n",
    "\n",
    "    sampleCounts   [ clusterId ] += 1\n",
    "   \n",
    "#Compute the means of parameters per cluster (cluster centers)\n",
    "for iCluster in range(0, numberOfClusters) :\n",
    "    rangeMeans     [ iCluster ] /= sampleCounts [ iCluster ] \n",
    "    rangeRatioMeans[ iCluster ] /= sampleCounts [ iCluster ] \n",
    "    azimuthMeans   [ iCluster ] /= sampleCounts [ iCluster ] \n",
    "    ccMeans        [ iCluster ] /= sampleCounts [ iCluster ] \n",
    "    \n",
    "    print(\"Cluster\", iCluster+1, \":\")\n",
    "    print(\"  a=\", rangeMeans[iCluster], \n",
    "          \"b/a=\", rangeRatioMeans[iCluster], \n",
    "          \"az=\", azimuthMeans[iCluster], \n",
    "          \"cc=\", ccMeans[iCluster])\n",
    " \n"
   ]
  },
  {
   "cell_type": "code",
   "execution_count": null,
   "metadata": {},
   "outputs": [],
   "source": []
  }
 ],
 "metadata": {
  "kernelspec": {
   "display_name": "Python 3",
   "language": "python",
   "name": "python3"
  },
  "language_info": {
   "codemirror_mode": {
    "name": "ipython",
    "version": 3
   },
   "file_extension": ".py",
   "mimetype": "text/x-python",
   "name": "python",
   "nbconvert_exporter": "python",
   "pygments_lexer": "ipython3",
   "version": "3.6.4"
  }
 },
 "nbformat": 4,
 "nbformat_minor": 2
}
