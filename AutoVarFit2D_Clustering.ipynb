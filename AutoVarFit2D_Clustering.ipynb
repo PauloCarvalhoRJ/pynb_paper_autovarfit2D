{
 "cells": [
  {
   "cell_type": "code",
   "execution_count": 2,
   "metadata": {},
   "outputs": [],
   "source": [
    "#The imports\n",
    "from sklearn.cluster import SpectralClustering\n",
    "import numpy as np\n",
    "import pandas as pd"
   ]
  },
  {
   "cell_type": "code",
   "execution_count": 102,
   "metadata": {},
   "outputs": [
    {
     "name": "stdout",
     "output_type": "stream",
     "text": [
      "(816, 4)\n"
     ]
    }
   ],
   "source": [
    "#Read the parameters of the fitted nested variogram structures, wich were saved as a GEO-EAS point set.\n",
    "# 1st column: parameter a (main range)\n",
    "# 2nd column: parameter b/a (minor/main ranges ratio)\n",
    "# 3rd column: parameter theta (azimuth)\n",
    "# 4th column: parameter cc (contribution)\n",
    "\n",
    "varParameters = pd.read_csv(\"Scat_V4_GA_FIM_816.xyz\", sep='\\t', skiprows=0)\n",
    "print(varParameters.values.shape)\n",
    "\n",
    "numberOfClusters = 4\n"
   ]
  },
  {
   "cell_type": "code",
   "execution_count": 103,
   "metadata": {},
   "outputs": [],
   "source": [
    "#Perform the clustering using only range, ranges ratio and azimuth (does not use contribution)\n",
    "#clusteringData = SpectralClustering(n_clusters=numberOfClusters, \n",
    "#                                    assign_labels=\"discretize\", \n",
    "#                                    random_state=0).fit( varParameters.values[:,:3] )\n",
    "\n",
    "#Perform the clustering using all variables\n",
    "clusteringData = SpectralClustering(n_clusters=numberOfClusters, \n",
    "                                    assign_labels=\"discretize\", \n",
    "                                    random_state=0).fit( varParameters )"
   ]
  },
  {
   "cell_type": "code",
   "execution_count": 104,
   "metadata": {},
   "outputs": [
    {
     "name": "stdout",
     "output_type": "stream",
     "text": [
      "Cluster 1 :\n",
      "  a= 9.492709617569137 b/a= 0.22910454927928248 az= 135.17230869355834 cc= 0.15927626034723769\n",
      "Cluster 2 :\n",
      "  a= 51.16918495695807 b/a= 0.4760274863478581 az= 98.17017908467098 cc= 0.11852751166136129\n",
      "Cluster 3 :\n",
      "  a= 15.594723655051975 b/a= 0.33922128708597465 az= 51.19707721427509 cc= 0.12059519846485309\n",
      "Cluster 4 :\n",
      "  a= 50.48868250768054 b/a= 0.6828502896937856 az= 77.57213443502107 cc= 0.20445952429760966\n"
     ]
    }
   ],
   "source": [
    "#Stores the mean parameters for each cluster\n",
    "rangeMeans       = np.zeros( numberOfClusters )\n",
    "rangeRatioMeans  = np.zeros( numberOfClusters )\n",
    "azimuthMeans     = np.zeros( numberOfClusters )\n",
    "ccMeans          = np.zeros( numberOfClusters )\n",
    "\n",
    "#The counts of samples for each cluster \n",
    "sampleCounts     = np.zeros( numberOfClusters )\n",
    "\n",
    "#Accumulate the sums of parameters per cluster for the computation of the means (cluster centers)\n",
    "for iRow in range(0, clusteringData.labels_.shape[0] ) :\n",
    "    rangeV                 = varParameters.values[ iRow, 0 ]\n",
    "    rangeRatio             = varParameters.values[ iRow, 1 ]\n",
    "    azimuth                = varParameters.values[ iRow, 2 ]\n",
    "    covarianceContribution = varParameters.values[ iRow, 3 ]\n",
    "    \n",
    "    clusterId = clusteringData.labels_[ iRow ]\n",
    "    \n",
    "    rangeMeans     [ clusterId ] += rangeV \n",
    "    rangeRatioMeans[ clusterId ] += rangeRatio \n",
    "    azimuthMeans   [ clusterId ] += azimuth \n",
    "    ccMeans        [ clusterId ] += covarianceContribution \n",
    "\n",
    "    sampleCounts   [ clusterId ] += 1\n",
    "   \n",
    "#Compute the means of parameters per cluster (cluster centers)\n",
    "for iCluster in range(0, numberOfClusters) :\n",
    "    rangeMeans     [ iCluster ] /= sampleCounts [ iCluster ] \n",
    "    rangeRatioMeans[ iCluster ] /= sampleCounts [ iCluster ] \n",
    "    azimuthMeans   [ iCluster ] /= sampleCounts [ iCluster ] \n",
    "    ccMeans        [ iCluster ] /= sampleCounts [ iCluster ] \n",
    "    \n",
    "    print(\"Cluster\", iCluster+1, \":\")\n",
    "    print(\"  a=\", rangeMeans[iCluster], \n",
    "          \"b/a=\", rangeRatioMeans[iCluster], \n",
    "          \"az=\", azimuthMeans[iCluster], \n",
    "          \"cc=\", ccMeans[iCluster])\n",
    " \n"
   ]
  },
  {
   "cell_type": "code",
   "execution_count": null,
   "metadata": {},
   "outputs": [],
   "source": []
  }
 ],
 "metadata": {
  "kernelspec": {
   "display_name": "Python 3",
   "language": "python",
   "name": "python3"
  },
  "language_info": {
   "codemirror_mode": {
    "name": "ipython",
    "version": 3
   },
   "file_extension": ".py",
   "mimetype": "text/x-python",
   "name": "python",
   "nbconvert_exporter": "python",
   "pygments_lexer": "ipython3",
   "version": "3.6.4"
  }
 },
 "nbformat": 4,
 "nbformat_minor": 2
}
